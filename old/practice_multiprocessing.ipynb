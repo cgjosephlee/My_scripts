{
 "cells": [
  {
   "cell_type": "code",
   "execution_count": 24,
   "metadata": {},
   "outputs": [],
   "source": [
    "import sys\n",
    "import os\n",
    "import io\n",
    "import gzip\n",
    "from multiprocessing import Process, Pipe\n",
    "import subprocess as sp\n",
    "\n",
    "# in_fq = '/mnt/nas1/hhl/fusarium/fastqs_cdna/guppy_3.3.0/Fu6_cdna_FAH31309.fq.gz'  # 190Mb\n",
    "in_fq = '/mnt/nas1/hhl/ustilago/fastqs.nanopore/guppy_2.3.5/UEMT_2cells.min1000.fq.gz'  # 3.3G"
   ]
  },
  {
   "cell_type": "code",
   "execution_count": 25,
   "metadata": {},
   "outputs": [
    {
     "name": "stdout",
     "output_type": "stream",
     "text": [
      "586675\n",
      "586675\n",
      "586675\n",
      "586675\n",
      "1min 5s ± 49.4 ms per loop (mean ± std. dev. of 3 runs, 1 loop each)\n"
     ]
    }
   ],
   "source": [
    "def classic_way():\n",
    "    lengths = []\n",
    "    handle = io.BufferedReader(gzip.open(in_fq))\n",
    "    for line in handle:\n",
    "        lengths.append(len(next(handle).strip()))\n",
    "        next(handle)\n",
    "        next(handle)\n",
    "    handle.close()\n",
    "    print(len(lengths))\n",
    "\n",
    "%timeit -r3 classic_way()"
   ]
  },
  {
   "cell_type": "code",
   "execution_count": 26,
   "metadata": {
    "scrolled": true
   },
   "outputs": [
    {
     "name": "stdout",
     "output_type": "stream",
     "text": [
      "586675\n",
      "586675\n",
      "586675\n",
      "586675\n",
      "1min 9s ± 452 ms per loop (mean ± std. dev. of 3 runs, 1 loop each)\n"
     ]
    }
   ],
   "source": [
    "def subproc():\n",
    "    lengths = []\n",
    "    proc = sp.Popen(['zcat', in_fq], stdout=sp.PIPE, stderr=sp.PIPE)\n",
    "    # out, err = proc.communicate()\n",
    "    with proc.stdout as handle:\n",
    "        for line in handle:\n",
    "            lengths.append(len(next(handle).strip()))\n",
    "            next(handle)\n",
    "            next(handle)\n",
    "    proc.wait()\n",
    "    print(len(lengths))\n",
    "\n",
    "%timeit -r3 subproc()"
   ]
  },
  {
   "cell_type": "markdown",
   "metadata": {},
   "source": [
    "references:\n",
    "- https://docs.python.org/3/library/multiprocessing.html\n",
    "- https://laucyun.com/c5dafb12eba4cfb0c80159d57f06f8b4.html\n",
    "- https://zwindr.blogspot.com/2017/04/python-multiprocessing.html\n",
    "- https://stackoverflow.com/questions/6564395/why-doesnt-pipe-close-cause-eoferror-during-pipe-recv-in-python-multiproces\n",
    "\n",
    "Not faster? bottleneck is?"
   ]
  },
  {
   "cell_type": "code",
   "execution_count": 27,
   "metadata": {},
   "outputs": [
    {
     "name": "stdout",
     "output_type": "stream",
     "text": [
      "586675 finish!\n",
      "586675 finish!\n",
      "586675 finish!\n",
      "586675 finish!\n",
      "1min 16s ± 103 ms per loop (mean ± std. dev. of 3 runs, 1 loop each)\n"
     ]
    }
   ],
   "source": [
    "def multiproc():\n",
    "    def read_conn(conn):\n",
    "        # print(os.getpid())  # this thread is fully loaded\n",
    "        handle = io.BufferedReader(gzip.open(in_fq))\n",
    "        for _ in handle:\n",
    "            conn.send(len(next(handle)))\n",
    "            next(handle)\n",
    "            next(handle)\n",
    "        handle.close()\n",
    "        # conn.close()\n",
    "        # print('close reading.')\n",
    "\n",
    "    parent_conn, child_conn = Pipe(False)\n",
    "    p = Process(target=read_conn, args=(child_conn,))\n",
    "    p.start()\n",
    "    try:\n",
    "        n = 0\n",
    "        lengths = []\n",
    "        child_conn.close()  # close in master proc, but keep opening in child\n",
    "        while True:\n",
    "            line = parent_conn.recv()\n",
    "            lengths.append(line)\n",
    "            n += 1\n",
    "    except EOFError as e:\n",
    "        print(len(lengths), 'finish!')\n",
    "    p.join()\n",
    "\n",
    "%timeit -r3 multiproc()"
   ]
  },
  {
   "cell_type": "markdown",
   "metadata": {},
   "source": [
    "`zcat /mnt/nas1/hhl/ustilago/fastqs.nanopore/guppy_2.3.5/UEMT_2cells.min1000.fq.gz | ./fastq_stats.py -`\n",
    "\n",
    "about 1:10, not that fast?"
   ]
  }
 ],
 "metadata": {
  "kernelspec": {
   "display_name": "Python 3",
   "language": "python",
   "name": "python3"
  },
  "language_info": {
   "codemirror_mode": {
    "name": "ipython",
    "version": 3
   },
   "file_extension": ".py",
   "mimetype": "text/x-python",
   "name": "python",
   "nbconvert_exporter": "python",
   "pygments_lexer": "ipython3",
   "version": "3.6.8"
  }
 },
 "nbformat": 4,
 "nbformat_minor": 2
}
